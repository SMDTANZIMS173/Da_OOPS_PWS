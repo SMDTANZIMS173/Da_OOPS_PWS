{
 "cells": [
  {
   "cell_type": "markdown",
   "metadata": {},
   "source": [
    "OOPS:"
   ]
  },
  {
   "cell_type": "markdown",
   "metadata": {},
   "source": [
    "1. What are the five key concepts of Object-Oriented Programming (OOP)?\n",
    "\n",
    "OOPS concept deals with the real world implementation of classes and object, it gives the real structure of classes and object which is helpful for dealing real world solutions for the problems where security,protection, accessing plays vital role\n",
    "\n",
    "The  Five key concepts of OOPS is\n",
    "1. classes - objects\n",
    "* Class: A class is a blueprint or template that defines the attributes and methods. and can be accessed using its instances.\n",
    "* Object: An object is an instance of a class that encapsulates data and behaves as defined by the class.\n",
    "\n",
    "2. Encapsulation   (attributes + Functions = binded together)\n",
    "Encapsulation is the process of bundling data (variables) and methods (functions) that operate on the data into a single unit, typically a class, and restricting direct access to some of the object's components.\n",
    "\n",
    "3. Inheritance   (Parent, Child properties)\n",
    "Inheritance is a mechanism where one class (child class) acquires the properties and behaviors (methods) of another class (parent class), enabling code reuse and hierarchy representation.\n",
    "\n",
    "4. Polymorphism  (Many forms)\n",
    "Polymorphism is the ability of a function, object, or method to take on multiple forms, allowing the same operation to perform differently depending parameters passed on the object or context.\n",
    "\n",
    "5. Abstraction    (Hiding Data)\n",
    "Abstraction is the concept of hiding the complex implementation details of an object and exposing only the essential features or functionalities."
   ]
  },
  {
   "cell_type": "markdown",
   "metadata": {},
   "source": [
    "2. Write a Python class for a `Car` with attributes for `make`, `model`, and `year`. Include a method to display\n",
    "the car's information."
   ]
  },
  {
   "cell_type": "code",
   "execution_count": 3,
   "metadata": {},
   "outputs": [
    {
     "name": "stdout",
     "output_type": "stream",
     "text": [
      "Car information is : Toyota, Corolla, 2021\n"
     ]
    }
   ],
   "source": [
    "class Car:\n",
    "    def __init__(self,make,model,year):\n",
    "        self.make = make\n",
    "        self.model = model\n",
    "        self.year = year\n",
    "    def Display_info(self):\n",
    "        print(f\"Car information is : {self.make}, {self.model}, {self.year}\")\n",
    "Obj = Car(\"Toyota\", \"Corolla\",2021)\n",
    "Obj.Display_info()"
   ]
  },
  {
   "cell_type": "markdown",
   "metadata": {},
   "source": [
    "3. Explain the difference between instance methods and class methods. Provide an example of each."
   ]
  },
  {
   "cell_type": "markdown",
   "metadata": {},
   "source": [
    "1. Instance Methods\n",
    "Instance methods work on an individual object (instance) of the class. They can access and modify the instance’s attributes and require the object to call them.\n",
    "* instance need self to call or modify the attributes of the instance object of the class\n",
    "\n",
    "2. Class Methods\n",
    "Class methods work on the class itself, not on individual objects. They don’t require an object to call them but require the class. Class methods use the @classmethod decorator and receive the class as the first parameter (cls)."
   ]
  },
  {
   "cell_type": "code",
   "execution_count": null,
   "metadata": {},
   "outputs": [
    {
     "name": "stdout",
     "output_type": "stream",
     "text": [
      "This is instance method Hi from object\n"
     ]
    },
    {
     "data": {
      "text/plain": [
       "'Accessing class variable without object or instance creation This is how class method works'"
      ]
     },
     "execution_count": 5,
     "metadata": {},
     "output_type": "execute_result"
    }
   ],
   "source": [
    "# Instance object Example\n",
    "class InstanceObjectClassObject:\n",
    "    Class_variable = \"This is how class method works\"\n",
    "    def __init__(self,instance_variable):\n",
    "        self.instance_variable = instance_variable\n",
    "    def inst_method(self):\n",
    "        print(\"This is instance method\",self.instance_variable)\n",
    "    @classmethod\n",
    "    def classMethod(cls):\n",
    "        return f\"Accessing class variable without object or instance creation {cls.Class_variable}\"\n",
    "obj = InstanceObjectClassObject(\"Hi from object\")\n",
    "obj.inst_method()  #works with object\n",
    "InstanceObjectClassObject.classMethod()  # works with Class"
   ]
  },
  {
   "cell_type": "markdown",
   "metadata": {},
   "source": [
    "4. How does Python implement method overloading? Give an example."
   ]
  },
  {
   "cell_type": "markdown",
   "metadata": {},
   "source": [
    "Actually in python due to its Dynamic Typing that is type of variable determined at runtime not at complile time and due to its simplicity , it does not support method overloading or we can say it is not needed to specify its structure which overloading definition says\n",
    "reason:\n",
    "1. Dynamic Typing\n",
    "2. Simplicity\n",
    "Here we will see both methods"
   ]
  },
  {
   "cell_type": "code",
   "execution_count": null,
   "metadata": {},
   "outputs": [
    {
     "name": "stdout",
     "output_type": "stream",
     "text": [
      "Hi  \n",
      "Hi Pwskills \n",
      "Hi Pwskills Have you fininshed assignment\n",
      "Hi  \n",
      "Hi Tanzim \n",
      "Hi Tanzim How do you do\n"
     ]
    }
   ],
   "source": [
    "class main:\n",
    "    def a(self):\n",
    "        print(\"Hi\")\n",
    "    def a(self,name=\"\"):\n",
    "        print(\"Hi\",name)\n",
    "    def a(self,name=\"\", status=\"\"):\n",
    "        print(\"Hi\",name,status) \n",
    "c= main()\n",
    "c.a()\n",
    "c.a(\"Pwskills\")\n",
    "c.a(\"Pwskills\",\"Have you finished assignment?\")   # this is one kind\n",
    "\n",
    "# Actual Method overloading implementation in python\n",
    "class main:\n",
    "    def a(self,name=\"\", status=\"\"):\n",
    "        print(\"Hi\",name,status) \n",
    "c= main()\n",
    "c.a()\n",
    "c.a(\"Tanzim\")\n",
    "c.a(\"Tanzim\",\"How do you do?\") "
   ]
  },
  {
   "cell_type": "markdown",
   "metadata": {},
   "source": [
    "5. What are the three types of access modifiers in Python? How are they denoted? \n",
    "\n",
    "1. Public access modifiers --> Has public access throughout the class\n",
    "2. Private access modifiers -- > Has Private access within the class or object\n",
    "3. Protected access modifiers --> Has Access to class and its subclasses\n",
    "\n",
    "Representation or denotion:\n",
    "1. Public access modifiers --> self.variable_name (for instance example)\n",
    "2. Private access modifiers -- > self.__variable_name (for instance example)\n",
    "3. Protected access modifiers --> self._variable_name (for instance example)"
   ]
  },
  {
   "cell_type": "code",
   "execution_count": 9,
   "metadata": {},
   "outputs": [
    {
     "name": "stdout",
     "output_type": "stream",
     "text": [
      "I am Public\n",
      "I am Protected\n",
      "I am Private\n",
      "I am Private\n"
     ]
    }
   ],
   "source": [
    "class Example:\n",
    "    def __init__(self):\n",
    "        self.public_var = \"I am Public\"        # Public\n",
    "        self._protected_var = \"I am Protected\" # Protected\n",
    "        self.__private_var = \"I am Private\"    # Private\n",
    "\n",
    "    def access_private(self):\n",
    "        return self.__private_var  # Accessing private variable inside the class\n",
    "\n",
    "# Creating an object\n",
    "obj = Example()\n",
    "\n",
    "# Accessing public variable\n",
    "print(obj.public_var)  # Accessible directly\n",
    "\n",
    "# Accessing protected variable\n",
    "print(obj._protected_var)  # Accessible directly, but should follow convention\n",
    "\n",
    "# Accessing private variable\n",
    "# print(obj.__private_var)  # This would raise an AttributeError\n",
    "\n",
    "# Correct way to access private variable\n",
    "print(obj.access_private())\n",
    "\n",
    "#other way of accessing private variable\n",
    "print(obj._Example__private_var)\n"
   ]
  },
  {
   "cell_type": "markdown",
   "metadata": {},
   "source": [
    "6. Describe the five types of inheritance in Python. Provide a simple example of multiple inheritance."
   ]
  },
  {
   "cell_type": "markdown",
   "metadata": {},
   "source": [
    "Five Types of Inheritance in Python:\n",
    "1. Single Inheritance\n",
    "\n",
    "A child class inherits from one parent class.\n",
    "\n",
    "2. Multiple Inheritance\n",
    "\n",
    "A child class inherits from more than one parent class.\n",
    "\n",
    "3. Multilevel Inheritance\n",
    "\n",
    "A class inherits from a class, which itself inherits from another class.\n",
    "\n",
    "4. Hierarchical Inheritance\n",
    "\n",
    "Multiple child classes inherit from a single parent class.\n",
    "\n",
    "5. Hybrid Inheritance\n",
    "\n",
    "A combination of two or more types of inheritance."
   ]
  },
  {
   "cell_type": "code",
   "execution_count": 10,
   "metadata": {},
   "outputs": [
    {
     "name": "stdout",
     "output_type": "stream",
     "text": [
      "Feature from Parent1\n",
      "Feature from Parent2\n",
      "Feature from Child\n"
     ]
    }
   ],
   "source": [
    "#Multiple Inheritance\n",
    "class Parent1:\n",
    "    def feature1(self):\n",
    "        return \"Feature from Parent1\"\n",
    "\n",
    "class Parent2:\n",
    "    def feature2(self):\n",
    "        return \"Feature from Parent2\"\n",
    "\n",
    "# Multiple Inheritance\n",
    "class Child(Parent1, Parent2):\n",
    "    def feature3(self):\n",
    "        return \"Feature from Child\"\n",
    "\n",
    "# Creating an object of the Child class\n",
    "child = Child()\n",
    "\n",
    "# Accessing features from both parents and the child\n",
    "print(child.feature1())  # From Parent1\n",
    "print(child.feature2())  # From Parent2\n",
    "print(child.feature3())  # From Child\n"
   ]
  },
  {
   "cell_type": "markdown",
   "metadata": {},
   "source": [
    "7. What is the Method Resolution Order (MRO) in Python? How can you retrieve it programmatically?"
   ]
  },
  {
   "cell_type": "markdown",
   "metadata": {},
   "source": [
    "It is also known as Diamond problem which is occured in Multiple or Hierarchical Inheritance where Multiple child classes inherit from a single parent class and to maintain the order which class to be called or executed first we use method resolution order\n",
    "* it can retrieved programmatically using child_name.mro() or child_name.__mro__\n",
    "\n",
    "* python uses C3 linearization Algorithm"
   ]
  },
  {
   "cell_type": "code",
   "execution_count": null,
   "metadata": {},
   "outputs": [
    {
     "name": "stdout",
     "output_type": "stream",
     "text": [
      "[<class '__main__.D'>, <class '__main__.B'>, <class '__main__.C'>, <class '__main__.A'>, <class 'object'>]\n",
      "(<class '__main__.D'>, <class '__main__.B'>, <class '__main__.C'>, <class '__main__.A'>, <class 'object'>)\n"
     ]
    }
   ],
   "source": [
    "class A:\n",
    "    def method(self):\n",
    "        return \"Method in A\"\n",
    "\n",
    "class B(A):\n",
    "    def method(self):\n",
    "        return \"Method in B\"\n",
    "\n",
    "class C(A):\n",
    "    def method(self):\n",
    "        return \"Method in C\"\n",
    "\n",
    "class D(B, C):    # Actually it is the case of Multiple or hierarchical inheritance\n",
    "    pass          # order is D\n",
    "\n",
    "# Retrieve MRO programmatically\n",
    "print(D.mro())          # Using mro() method\n",
    "print(D.__mro__)        # Using __mro__ attribute\n"
   ]
  },
  {
   "cell_type": "markdown",
   "metadata": {},
   "source": [
    "8. Create an abstract base class `Shape` with an abstract method `area()`. Then create two subclasses\n",
    "`Circle` and `Rectangle` that implement the `area()` method."
   ]
  },
  {
   "cell_type": "code",
   "execution_count": 12,
   "metadata": {},
   "outputs": [
    {
     "name": "stdout",
     "output_type": "stream",
     "text": [
      "Area of Circle: 78.54\n",
      "Area of Rectangle: 24\n"
     ]
    }
   ],
   "source": [
    "from abc import ABC, abstractmethod\n",
    "import math\n",
    "\n",
    "class Shape:\n",
    "    @abstractmethod\n",
    "    def area(self):\n",
    "        pass\n",
    "    \n",
    "# Subclass: Circle\n",
    "class Circle(Shape):\n",
    "    def __init__(self, radius):\n",
    "        self.radius = radius\n",
    "\n",
    "    def area(self):\n",
    "        return math.pi * self.radius ** 2\n",
    "\n",
    "# Subclass: Rectangle\n",
    "class Rectangle(Shape):\n",
    "    def __init__(self, length, width):\n",
    "        self.length = length\n",
    "        self.width = width\n",
    "\n",
    "    def area(self):\n",
    "        return self.length * self.width\n",
    "\n",
    "# Create instances\n",
    "circle = Circle(5)\n",
    "rectangle = Rectangle(4, 6)\n",
    "\n",
    "# Calculate and display areas\n",
    "print(f\"Area of Circle: {circle.area():.2f}\")\n",
    "print(f\"Area of Rectangle: {rectangle.area()}\")"
   ]
  },
  {
   "cell_type": "markdown",
   "metadata": {},
   "source": [
    "9. Demonstrate polymorphism by creating a function that can work with different shape objects to calculate\n",
    "and print their areas."
   ]
  },
  {
   "cell_type": "code",
   "execution_count": 8,
   "metadata": {},
   "outputs": [
    {
     "name": "stdout",
     "output_type": "stream",
     "text": [
      "Area of Circle is 78.5\n",
      "Area of Rectangle is 6\n",
      "Area of Triangle is 3.0\n"
     ]
    }
   ],
   "source": [
    "# polymorphism function\n",
    "class Shape:\n",
    "    def area(self):\n",
    "        pass\n",
    "\n",
    "class Circle(Shape):\n",
    "    def __init__(self,radius):\n",
    "        self.radius = radius\n",
    "    def area(self):\n",
    "        return 3.14 * self.radius ** 2\n",
    "    \n",
    "class Rectangle(Shape):\n",
    "    def __init__(self,length, breadth):\n",
    "        self.length = length\n",
    "        self.breadth = breadth\n",
    "    def area(self):\n",
    "        return self.length * self.breadth\n",
    "    \n",
    "class Triangle(Shape):\n",
    "    def __init__(self,length, breadth):\n",
    "        self.length = length\n",
    "        self.breadth = breadth\n",
    "    def area(self):\n",
    "        return 0.5 * self.breadth * self.length\n",
    "obj = Circle(5)  # Circle Shape object\n",
    "obj1 = Rectangle(2,3)  # Rectangle Shape Object\n",
    "obj2 = Triangle(2,3) # Traingle Shape object\n",
    "# print(obj.area())\n",
    "# print(obj1.area())\n",
    "# print(obj2.area())\n",
    "lis = [obj,obj1,obj2]\n",
    "for i in lis:\n",
    "    print(f\"Area of {type(i).__name__} is\", i.area())\n"
   ]
  },
  {
   "cell_type": "markdown",
   "metadata": {},
   "source": [
    "10. Implement encapsulation in a `BankAccount` class with private attributes for `balance` and\n",
    "`account_number`. Include methods for deposit, withdrawal, and balance inquiry."
   ]
  },
  {
   "cell_type": "code",
   "execution_count": 31,
   "metadata": {},
   "outputs": [
    {
     "name": "stdout",
     "output_type": "stream",
     "text": [
      "2000\n",
      "200 is deposited\n",
      "2200\n",
      "340 is withdrawed\n",
      "Sorry Sir/Madam, balance cannot fall below the minimum limit of 1000.\n",
      "1860\n"
     ]
    }
   ],
   "source": [
    "class BankAccount:\n",
    "    def __init__(self,balanace,acc_no):\n",
    "        self.__balance = balanace\n",
    "        self.__acc_no = acc_no\n",
    "    def deposit(self,amount):\n",
    "        self.amount = amount\n",
    "        self.__balance += amount\n",
    "        print(f\"{self.amount} is deposited\")\n",
    "    def withdrawal(self,amount):\n",
    "        self.amount = amount\n",
    "        if amount > self.__balance:\n",
    "            print(\"Sorry Sir/Madam, insufficient balance.\")\n",
    "        elif self.__balance - amount < 1000:\n",
    "            print(\"Sorry Sir/Madam, balance cannot fall below the minimum limit of 1000.\")\n",
    "        else:\n",
    "            self.__balance -= amount\n",
    "            print(f\"{self.amount} is withdrawed\")\n",
    "    def balance_inquiry(self):\n",
    "        return self.__balance\n",
    "obj = BankAccount(2000, 2147873)\n",
    "print(obj.balance_inquiry())   #2000\n",
    "obj.deposit(200)                # 200 is deposited\n",
    "print(obj.balance_inquiry())    #2200\n",
    "obj.withdrawal(340)\n",
    "obj.withdrawal(1500)\n",
    "# obj.balance_inquiry()\n",
    "print(obj.balance_inquiry())\n",
    "\n",
    "\n",
    "\n"
   ]
  },
  {
   "cell_type": "markdown",
   "metadata": {},
   "source": [
    "11. Write a class that overrides the `__str__` and `__add__` magic methods. What will these methods allow\n",
    "you to do?"
   ]
  },
  {
   "cell_type": "markdown",
   "metadata": {},
   "source": [
    "These methods allows us to\n",
    "__str__ : it is used to call the instance with class_name rather than giving address at which the object or memory location is created for that class as soon instance is created\n",
    "__add__: Add the values simultaneously as soon it sees '+' the __add__ is invoked"
   ]
  },
  {
   "cell_type": "code",
   "execution_count": 36,
   "metadata": {},
   "outputs": [
    {
     "name": "stdout",
     "output_type": "stream",
     "text": [
      "MyNumber(10)\n",
      "MyNumber(30)\n"
     ]
    }
   ],
   "source": [
    "class MyNumber:\n",
    "    def __init__(self, value):\n",
    "        self.value = value\n",
    "\n",
    "    def __str__(self):\n",
    "        return f\"MyNumber({self.value})\"\n",
    "\n",
    "    def __add__(self, other):\n",
    "        return MyNumber(self.value + other.value)\n",
    "\n",
    "# Example usage\n",
    "num1 = MyNumber(10)\n",
    "num2 = MyNumber(20)\n",
    "\n",
    "# __str__ demonstration\n",
    "print(num1)  # Output: MyNumber(10)\n",
    "\n",
    "# __add__ demonstration\n",
    "result = num1 + num2\n",
    "print(result)  # Output: MyNumber(30)\n",
    " "
   ]
  },
  {
   "cell_type": "markdown",
   "metadata": {},
   "source": [
    "12. Create a decorator that measures and prints the execution time of a function."
   ]
  },
  {
   "cell_type": "code",
   "execution_count": 39,
   "metadata": {},
   "outputs": [
    {
     "name": "stdout",
     "output_type": "stream",
     "text": [
      "Clear code\n",
      "224\n",
      "time taken to exceute the code of function  1.0967254638671875e-05\n"
     ]
    }
   ],
   "source": [
    "import time\n",
    "def ti_dec(func):\n",
    "    def wrap():\n",
    "        print(\"Clear code\")\n",
    "        start = time.time()  # actually it records current time\n",
    "        func()\n",
    "        end = time.time()   # actually the time after executing func()\n",
    "        print(\"time taken to exceute the code of function \",end-start )\n",
    "    return wrap\n",
    "@ti_dec\n",
    "def m():\n",
    "    print(112*2)\n",
    "m()"
   ]
  },
  {
   "cell_type": "markdown",
   "metadata": {},
   "source": [
    "13. Explain the concept of the Diamond Problem in multiple inheritance. How does Python resolve it?"
   ]
  },
  {
   "cell_type": "markdown",
   "metadata": {},
   "source": [
    "* The Diamond Problem occurs when a class inherits from multiple classes that share a common base class, creating ambiguity in method or attribute inheritance.\n",
    "* Python resolves this issue using the Method Resolution Order (MRO), ensuring that classes are searched in a consistent, predictable order to determine which method to call."
   ]
  },
  {
   "cell_type": "markdown",
   "metadata": {},
   "source": [
    "lets write the code how diamond problem looks like"
   ]
  },
  {
   "cell_type": "code",
   "execution_count": 45,
   "metadata": {},
   "outputs": [
    {
     "name": "stdout",
     "output_type": "stream",
     "text": [
      "Method in B\n",
      "[<class '__main__.D'>, <class '__main__.B'>, <class '__main__.C'>, <class '__main__.A'>, <class 'object'>]\n"
     ]
    }
   ],
   "source": [
    "class A:\n",
    "    def method(self):\n",
    "        print(\"Method in A\")\n",
    "\n",
    "class B(A):\n",
    "    def method(self):\n",
    "        print(\"Method in B\")\n",
    "\n",
    "class C(A):\n",
    "    def method(self):\n",
    "        print(\"Method in C\")\n",
    "\n",
    "class D(B, C):\n",
    "    pass\n",
    "\n",
    "d = D()\n",
    "d.method() # Resolves using MRO\n",
    "print(D.mro())  # Displays the MRO\n",
    "\n",
    "                  \n",
    "                  "
   ]
  },
  {
   "cell_type": "markdown",
   "metadata": {},
   "source": [
    "14. Write a class method that keeps track of the number of instances created from a class."
   ]
  },
  {
   "cell_type": "code",
   "execution_count": 56,
   "metadata": {},
   "outputs": [
    {
     "data": {
      "text/plain": [
       "3"
      ]
     },
     "execution_count": 56,
     "metadata": {},
     "output_type": "execute_result"
    }
   ],
   "source": [
    "class Student:\n",
    "    total = 0\n",
    "    def __init__(self,name):\n",
    "        self.name = name\n",
    "        Student.total += 1\n",
    "    @classmethod\n",
    "    def cl(cls):\n",
    "        return cls.total \n",
    "b = Student(\"1st instance\")\n",
    "c = Student(\"2nd Instance\")\n",
    "d = Student(\"3rd instance\")\n",
    "Student.cl()\n",
    "\n"
   ]
  },
  {
   "cell_type": "markdown",
   "metadata": {},
   "source": [
    "15. Implement a static method in a class that checks if a given year is a leap year."
   ]
  },
  {
   "cell_type": "code",
   "execution_count": 60,
   "metadata": {},
   "outputs": [
    {
     "name": "stdout",
     "output_type": "stream",
     "text": [
      "2000 is a leap year\n",
      "5000 is not a leap year\n"
     ]
    }
   ],
   "source": [
    "class static_method:\n",
    "    @staticmethod\n",
    "    def leapYear(year):\n",
    "        if (year % 4 == 0 and year % 100 != 0) or year % 400 == 0 :\n",
    "            print(f\"{year} is a leap year\")\n",
    "        else:\n",
    "            print(f\"{year} is not a leap year\")\n",
    "static_method.leapYear(2000)\n",
    "static_method.leapYear(5000)"
   ]
  },
  {
   "cell_type": "markdown",
   "metadata": {},
   "source": []
  },
  {
   "cell_type": "markdown",
   "metadata": {},
   "source": []
  },
  {
   "cell_type": "code",
   "execution_count": null,
   "metadata": {},
   "outputs": [],
   "source": []
  },
  {
   "cell_type": "markdown",
   "metadata": {},
   "source": []
  },
  {
   "cell_type": "code",
   "execution_count": null,
   "metadata": {},
   "outputs": [],
   "source": []
  }
 ],
 "metadata": {
  "kernelspec": {
   "display_name": "Python 3",
   "language": "python",
   "name": "python3"
  },
  "language_info": {
   "codemirror_mode": {
    "name": "ipython",
    "version": 3
   },
   "file_extension": ".py",
   "mimetype": "text/x-python",
   "name": "python",
   "nbconvert_exporter": "python",
   "pygments_lexer": "ipython3",
   "version": "3.13.0"
  }
 },
 "nbformat": 4,
 "nbformat_minor": 2
}
