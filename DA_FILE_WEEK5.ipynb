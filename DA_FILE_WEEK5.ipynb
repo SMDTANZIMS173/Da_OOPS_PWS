{
 "cells": [
  {
   "cell_type": "markdown",
   "metadata": {},
   "source": [
    "DA - Assignment - 5  -- >  File operations,loggings,exception"
   ]
  },
  {
   "cell_type": "markdown",
   "metadata": {},
   "source": [
    "1. What is the difference between interpreted and compiled languages"
   ]
  },
  {
   "cell_type": "markdown",
   "metadata": {},
   "source": [
    "1. Interpreted languages are executed line by line, meaning the program is read and executed directly by an interpreter at runtime. Each time you run the program, the interpreter reads and executes the code. \n",
    "Examples: Python, JavaScript.\n",
    "\n",
    "2. Compiled languages are converted into machine code (binary code) ahead of time by a compiler. The entire program is translated into an executable file before running, which can be executed directly by the computer. \n",
    "Examples: C, C++.\n"
   ]
  },
  {
   "cell_type": "markdown",
   "metadata": {},
   "source": [
    "2. What is exception handling in Python"
   ]
  },
  {
   "cell_type": "markdown",
   "metadata": {},
   "source": [
    "* Exception: An event that disrupts the normal flow of the program (e.g., division by zero, file not found).\n",
    "* Handling: Catching and dealing with the exception so the program can continue or exit cleanly.\n",
    "\n",
    "Exception can be best understood as an event when it occurs without any syntactic errors but stops the execution flow of the program\n",
    "Keywords:\n",
    "try, except,else,finally"
   ]
  },
  {
   "cell_type": "markdown",
   "metadata": {},
   "source": [
    "3. What is the purpose of the finally block in exception handling"
   ]
  },
  {
   "cell_type": "markdown",
   "metadata": {},
   "source": [
    "1. Finally block is useful to execute the block of code irrespective of Exception occurs in the try block or not"
   ]
  },
  {
   "cell_type": "code",
   "execution_count": 2,
   "metadata": {},
   "outputs": [
    {
     "name": "stdout",
     "output_type": "stream",
     "text": [
      "You cannot divide by zero!\n",
      "Execution complete, with or without exceptions inside Finally Block.\n"
     ]
    }
   ],
   "source": [
    "try:\n",
    "    num = 0\n",
    "    print(\"Result:\", 10 / num)\n",
    "except ZeroDivisionError:\n",
    "    print(\"You cannot divide by zero!\")\n",
    "finally:\n",
    "    print(\"Execution complete, with or without exceptions inside Finally Block.\")\n"
   ]
  },
  {
   "cell_type": "markdown",
   "metadata": {},
   "source": [
    "4. What is logging in Python"
   ]
  },
  {
   "cell_type": "markdown",
   "metadata": {},
   "source": [
    "\n",
    "* Logging in Python is a way to record messages about a program's execution, such as errors, warnings, or general status updates, to track and debug issues. \n",
    "* It uses the logging module to log messages to the console, files, or other outputs with customizable levels like DEBUG, INFO, WARNING, ERROR, and CRITICAL\n",
    "* Debug is the lowest level of logging"
   ]
  },
  {
   "cell_type": "markdown",
   "metadata": {},
   "source": [
    "5. What is the significance of the __del__ method in Python"
   ]
  },
  {
   "cell_type": "markdown",
   "metadata": {},
   "source": [
    "\n",
    "* The __del__ method in Python is a special method called the destructor. \n",
    "It is invoked automatically when an object is about to be destroyed.\n",
    "The main significance of __del__ is to allow you to clean up resources like closing files, releasing network connections, or freeing memory before the object is deleted."
   ]
  },
  {
   "cell_type": "code",
   "execution_count": 9,
   "metadata": {},
   "outputs": [
    {
     "name": "stdout",
     "output_type": "stream",
     "text": [
      "Object is being destroyed!\n"
     ]
    }
   ],
   "source": [
    "class MyClass:\n",
    "    \n",
    "    def __del__(self):\n",
    "        print(\"Object is being destroyed!\")\n",
    "    \n",
    "obj = MyClass()\n",
    "del obj  # Triggers the __del__ method\n"
   ]
  },
  {
   "cell_type": "markdown",
   "metadata": {},
   "source": [
    "6. What is the difference between import and from ... import in Python"
   ]
  },
  {
   "cell_type": "markdown",
   "metadata": {},
   "source": [
    "* import Statement:\n",
    "It imports the entire module.\n",
    "You must use the module name to access its functions, variables, or classes.\n",
    "\n",
    "* from ... import Statement:\n",
    "It imports specific parts (functions, classes, or variables) of a module.\n",
    "You can use them directly without the module name."
   ]
  },
  {
   "cell_type": "code",
   "execution_count": null,
   "metadata": {},
   "outputs": [],
   "source": [
    "#import module\n",
    "import math\n",
    "\n",
    "print(math.sqrt(16))  # Access sqrt using the module name 'math'\n",
    "\n",
    "# from ... import\n",
    "from math import sqrt\n",
    "\n",
    "print(sqrt(16))  # No need to use module 'math.'\n"
   ]
  },
  {
   "cell_type": "markdown",
   "metadata": {},
   "source": [
    "7. How can you handle multiple exceptions in Python\n"
   ]
  },
  {
   "cell_type": "code",
   "execution_count": 13,
   "metadata": {},
   "outputs": [
    {
     "name": "stdout",
     "output_type": "stream",
     "text": [
      "An error occurred: unsupported operand type(s) for /: 'int' and 'str'\n",
      "A successful multiple exception handling method\n"
     ]
    }
   ],
   "source": [
    "try:\n",
    "    # Some code that might raise an exception\n",
    "    x = \"tan\"   # take zero as value when to get ZeroDivisionError\n",
    "    result = 10 / x\n",
    "except (ZeroDivisionError, ValueError,TypeError) as e:\n",
    "    print(f\"An error occurred: {e}\")\n",
    "finally:\n",
    "    print(\"A successful multiple exception handling method\")"
   ]
  },
  {
   "cell_type": "markdown",
   "metadata": {},
   "source": [
    "8.  What is the purpose of the with statement when handling files in Python"
   ]
  },
  {
   "cell_type": "markdown",
   "metadata": {},
   "source": [
    "* with Statement helps to automate the file closing without explicitly closing with file object\n",
    "* It helps files from unauthorized use by other applications when it is open ans helps files from getting corrupted"
   ]
  },
  {
   "cell_type": "code",
   "execution_count": 16,
   "metadata": {},
   "outputs": [
    {
     "name": "stdout",
     "output_type": "stream",
     "text": [
      "Hii this is Tanzim\n"
     ]
    }
   ],
   "source": [
    "# Using with statement to handle file\n",
    "with open(\"files.txt\", \"r\") as file:\n",
    "    a = file.read()\n",
    "    print(a)\n",
    "\n",
    "# The file is automatically closed when the block ends\n"
   ]
  },
  {
   "cell_type": "markdown",
   "metadata": {},
   "source": [
    "9. What is the difference between multithreading and multiprocessing\n"
   ]
  },
  {
   "cell_type": "markdown",
   "metadata": {},
   "source": [
    "\n",
    "* Multithreading allows multiple threads to run within the same process, sharing memory, and is best for I/O-bound tasks.\n",
    "* Multiprocessing creates separate processes with their own memory, making it ideal for CPU-bound tasks that require heavy computation."
   ]
  },
  {
   "cell_type": "markdown",
   "metadata": {},
   "source": [
    "10. What are the advantages of using logging in a program\n"
   ]
  },
  {
   "cell_type": "markdown",
   "metadata": {},
   "source": [
    "* Using logging in a program helps track and record important events, errors, and system behavior, making debugging easier.\n",
    "* It allows for different log levels (e.g., DEBUG, INFO, ERROR) to control the verbosity of logs.\n",
    "Logging provides better control over where the log messages go (e.g., files, consoles) and helps monitor and troubleshoot applications effectively."
   ]
  },
  {
   "cell_type": "markdown",
   "metadata": {},
   "source": [
    "11. What is memory management in Python\n"
   ]
  },
  {
   "cell_type": "markdown",
   "metadata": {},
   "source": [
    "Memory management in Python is handled automatically through reference counting and garbage collection. It frees memory from objects that are no longer in use, including handling circular references through a cyclic garbage collector. This allows developers to focus on code logic without manually managing memory."
   ]
  },
  {
   "cell_type": "markdown",
   "metadata": {},
   "source": [
    "12. What are the basic steps involved in exception handling in Python\n"
   ]
  },
  {
   "cell_type": "markdown",
   "metadata": {},
   "source": [
    "The basic steps in exception handling in Python are:\n",
    "\n",
    "* Try Block: Write the code that might raise an exception inside a try block.\n",
    "\n",
    "* Except Block: Handle specific exceptions using one or more except blocks.\n",
    "\n",
    "* Else: upon successful completion of try block code without any excepttion this block is executed\n",
    "\n",
    "* Optional Finally Block: Execute cleanup code, like closing files, in the finally block, which runs regardless of whether an exception occurred."
   ]
  },
  {
   "cell_type": "markdown",
   "metadata": {},
   "source": [
    "13. Why is memory management important in Python\n"
   ]
  },
  {
   "cell_type": "markdown",
   "metadata": {},
   "source": [
    "Memory management is important in Python because it ensures efficient use of system resources by automatically allocating and freeing memory. It helps prevent memory leaks, optimizes performance, and ensures that the program runs smoothly without running out of memory, especially in long-running applications."
   ]
  },
  {
   "cell_type": "markdown",
   "metadata": {},
   "source": [
    "14. What is the role of try and except in exception handling"
   ]
  },
  {
   "cell_type": "markdown",
   "metadata": {},
   "source": [
    "* try: Contains the code that might cause an exception.\n",
    "* except: Handles the exception if it occurs."
   ]
  },
  {
   "cell_type": "markdown",
   "metadata": {},
   "source": [
    "15. How does Python's garbage collection system work\n"
   ]
  },
  {
   "cell_type": "markdown",
   "metadata": {},
   "source": [
    "\n",
    "Python's garbage collection system automatically manages memory by tracking object references. It primarily uses reference counting to free memory when an object’s reference count reaches zero. Additionally, Python uses cyclic garbage collection to detect and clean up circular references (where objects reference each other). This ensures memory is efficiently reclaimed, preventing memory leaks."
   ]
  },
  {
   "cell_type": "markdown",
   "metadata": {},
   "source": [
    "16. What is the purpose of the else block in exception handling\n"
   ]
  },
  {
   "cell_type": "markdown",
   "metadata": {},
   "source": [
    "After successfully executing try block code without need of except block to identify error, the else block of code is executed "
   ]
  },
  {
   "cell_type": "code",
   "execution_count": 18,
   "metadata": {},
   "outputs": [
    {
     "name": "stdout",
     "output_type": "stream",
     "text": [
      "Try block Code has no exceptions so i will be executing\n"
     ]
    }
   ],
   "source": [
    "try:\n",
    "    # Some code that might raise an exception\n",
    "    x = 5   # take zero as value when to get ZeroDivisionError\n",
    "    result = 10 / x\n",
    "except (ZeroDivisionError, ValueError,TypeError) as e:\n",
    "    print(f\"An error occurred: {e}\")\n",
    "else:\n",
    "    print(\"Try block Code has no exceptions so i will be executing\")\n"
   ]
  },
  {
   "cell_type": "markdown",
   "metadata": {},
   "source": [
    "17. What are the common logging levels in Python\n"
   ]
  },
  {
   "cell_type": "markdown",
   "metadata": {},
   "source": [
    "The common logging levels in Python are:\n",
    "\n",
    "* DEBUG: Detailed information, typically useful for diagnosing problems.\n",
    "\n",
    "* INFO: General information about the program's execution.\n",
    "\n",
    "* WARNING: Indicates a potential issue or something unexpected but does not stop the program.\n",
    "\n",
    "* ERROR: Represents a serious issue that prevents part of the program from functioning.\n",
    "\n",
    "* CRITICAL: A very serious error that may cause the program to stop completely."
   ]
  },
  {
   "cell_type": "markdown",
   "metadata": {},
   "source": [
    "18. What is the difference between os.fork() and multiprocessing in Python\n"
   ]
  },
  {
   "cell_type": "markdown",
   "metadata": {},
   "source": [
    "* os.fork():\n",
    "\n",
    "Creates a new child process by duplicating the parent process.\n",
    "Works only on Unix-based systems (Linux/macOS).\n",
    "Both parent and child processes share the same memory space (though the child gets a copy).\n",
    "\n",
    "* multiprocessing:\n",
    "\n",
    "Creates independent processes with separate memory spaces.\n",
    "Works across different operating systems (Windows, Linux, macOS).\n",
    "Allows better control over process management and inter-process communication.\n",
    "\n",
    "In short, os.fork() is a lower-level, Unix-specific method, while multiprocessing is a higher-level, cross-platform module for creating processes."
   ]
  },
  {
   "cell_type": "markdown",
   "metadata": {},
   "source": [
    "19. What is the importance of closing a file in Python\n"
   ]
  },
  {
   "cell_type": "markdown",
   "metadata": {},
   "source": [
    "\n",
    "* Closing a file in Python is important because it ensures that all data is properly written and saved, and it frees up system resources. \n",
    "Failing to close a file can lead to memory leaks, data loss, or the file being locked, preventing other programs from accessing it.\n",
    "* But 'with' statement can take care of closing file without need of calling close() method manually"
   ]
  },
  {
   "cell_type": "markdown",
   "metadata": {},
   "source": [
    "20. What is the difference between file.read() and file.readline() in Python\n"
   ]
  },
  {
   "cell_type": "markdown",
   "metadata": {},
   "source": [
    "\n",
    "The difference between file.read() and file.readline() in Python is:\n",
    "\n",
    "* file.read():\n",
    "\n",
    "Reads the entire content of the file as a single string.\n",
    "Useful for small files where you want to read everything at once.\n",
    "\n",
    "* file.readline():\n",
    "\n",
    "Reads one line at a time from the file.\n",
    "Useful when processing files line by line, especially for large files."
   ]
  },
  {
   "cell_type": "markdown",
   "metadata": {},
   "source": [
    "21. What is the logging module in Python used for"
   ]
  },
  {
   "cell_type": "markdown",
   "metadata": {},
   "source": [
    "\n",
    "* The logging module in Python is used for tracking and recording events, errors, and other messages in a program. \n",
    "* It helps developers monitor application behavior, debug issues, and maintain logs with different severity levels (e.g., DEBUG, INFO, WARNING, ERROR, CRITICAL)."
   ]
  },
  {
   "cell_type": "markdown",
   "metadata": {},
   "source": [
    "22. What is the os module in Python used for in file handling"
   ]
  },
  {
   "cell_type": "markdown",
   "metadata": {},
   "source": [
    "* The os module in Python is used for interacting with the operating system, particularly for file handling tasks such as creating, deleting, and manipulating files and directories. \n",
    "* It provides functions like os.rename(), os.remove(), os.path.exists(), os.getcwd() and os.mkdir() to work with files and directories at a low level.\n"
   ]
  },
  {
   "cell_type": "markdown",
   "metadata": {},
   "source": [
    "23. What are the challenges associated with memory management in Python"
   ]
  },
  {
   "cell_type": "markdown",
   "metadata": {},
   "source": [
    "Associated challenges are:\n",
    "\n",
    "* Memory Leaks: Even though Python has garbage collection, circular references and objects with lingering references can lead to memory not being freed.\n",
    "\n",
    "* Overhead of Garbage Collection: The garbage collector adds some performance overhead, especially in large applications with complex object structures.\n",
    "\n",
    "* Limited Control: Python's automatic memory management offers limited control to developers, which might lead to less efficient memory usage in some cases, particularly for large-scale applications."
   ]
  },
  {
   "cell_type": "markdown",
   "metadata": {},
   "source": [
    "24. How do you raise an exception manually in Python"
   ]
  },
  {
   "cell_type": "markdown",
   "metadata": {},
   "source": [
    "we can raise an exception manually in Python using the raise keyword, followed by the exception you want to raise."
   ]
  },
  {
   "cell_type": "code",
   "execution_count": 25,
   "metadata": {},
   "outputs": [
    {
     "name": "stdout",
     "output_type": "stream",
     "text": [
      "An error occurred: Negative value is not allowed!\n"
     ]
    }
   ],
   "source": [
    "# This program will manually raise a ValueError\n",
    "\n",
    "def check_value(x):\n",
    "    if x < 0:\n",
    "        raise ValueError(\"Negative value is not allowed!\")\n",
    "    else:\n",
    "        print(f\"Value is {x}\")\n",
    "\n",
    "try:\n",
    "    check_value(-5)  # This will raise a ValueError\n",
    "except ValueError as e:\n",
    "    print(f\"An error occurred: {e}\")\n"
   ]
  },
  {
   "cell_type": "markdown",
   "metadata": {},
   "source": [
    "25. Why is it important to use multithreading in certain applications?"
   ]
  },
  {
   "cell_type": "markdown",
   "metadata": {},
   "source": [
    "Multithreading is important in certain applications because it allows tasks to be executed concurrently, improving the efficiency and responsiveness of the program. "
   ]
  },
  {
   "cell_type": "markdown",
   "metadata": {},
   "source": [
    "Practical Questions:\n",
    "\n",
    "1. How can you open a file for writing in Python and write a string to it\n"
   ]
  },
  {
   "cell_type": "code",
   "execution_count": 29,
   "metadata": {},
   "outputs": [
    {
     "name": "stdout",
     "output_type": "stream",
     "text": [
      "This is the writable file\n"
     ]
    }
   ],
   "source": [
    "with open(\"File_write.txt\",\"w\") as file:\n",
    "    file.write(\"This is the writable file\") # write file\n",
    "     \n",
    "with open(\"File_write.txt\",\"r\") as file:\n",
    "    a = file.read()  # read file that you have written\n",
    "    print(a)   "
   ]
  },
  {
   "cell_type": "markdown",
   "metadata": {},
   "source": [
    "2. Write a Python program to read the contents of a file and print each line"
   ]
  },
  {
   "cell_type": "code",
   "execution_count": 36,
   "metadata": {},
   "outputs": [
    {
     "name": "stdout",
     "output_type": "stream",
     "text": [
      "This is new file\n",
      "This is the First Line of code\n",
      "This is the Second Line of code\n",
      "This is the Third Line of code\n",
      "This is the Fourth Line of code\n"
     ]
    }
   ],
   "source": [
    "with open(\"File123.txt\",\"w\") as file:\n",
    "    file.write(\"This is new file\")\n",
    "with open(\"File123.txt\",\"a\") as file:\n",
    "    file.write(\"\\nThis is the First Line of code\")\n",
    "    file.write(\"\\nThis is the Second Line of code\")\n",
    "    file.write(\"\\nThis is the Third Line of code\")\n",
    "    file.write(\"\\nThis is the Fourth Line of code\")\n",
    "with open(\"File123.txt\",\"r\") as file:\n",
    "    a = file.read()\n",
    "    print(a)"
   ]
  },
  {
   "cell_type": "markdown",
   "metadata": {},
   "source": [
    "3. How would you handle a case where the file doesn't exist while trying to open it for reading"
   ]
  },
  {
   "cell_type": "code",
   "execution_count": 37,
   "metadata": {},
   "outputs": [
    {
     "name": "stdout",
     "output_type": "stream",
     "text": [
      "The file does not exist. Please check the file name or path.[Errno 2] No such file or directory: 'non_existing_file.txt'.\n"
     ]
    }
   ],
   "source": [
    "try:\n",
    "    with open(\"non_existing_file.txt\", \"r\") as file:\n",
    "        content = file.read()\n",
    "        print(content)\n",
    "except FileNotFoundError as e:\n",
    "    print(f\"The file does not exist. Please check the file name or path.{e}.\")\n"
   ]
  },
  {
   "cell_type": "markdown",
   "metadata": {},
   "source": [
    "4. I will provide folder or screenshots as it is py script file not ipynb"
   ]
  },
  {
   "cell_type": "markdown",
   "metadata": {},
   "source": [
    "# file1 data\n",
    "\n",
    "import os,sys\n",
    "from os.path import dirname,join,abspath\n",
    "sys.path.insert(0,abspath(join(dirname(__file__),\"..\")))\n",
    "from file2 import File2\n",
    "def file1_data():\n",
    "    print(\"Hi! This is from File 1\")\n",
    "File2.file2_data()\n",
    "file1_data()\n",
    "\n",
    "#file2 data\n",
    "def file2_data():\n",
    "    print(\"Hi! This is from File 2\")\n",
    "# file2_data()\n",
    "\n",
    "output:\n",
    "'''\n",
    "Hi! This is from File 2\n",
    "Hi! This is from File 1\n",
    "'''"
   ]
  },
  {
   "cell_type": "markdown",
   "metadata": {},
   "source": [
    "5. How would you catch and handle division by zero error in Python"
   ]
  },
  {
   "cell_type": "code",
   "execution_count": 1,
   "metadata": {},
   "outputs": [
    {
     "name": "stdout",
     "output_type": "stream",
     "text": [
      "Error: Division by zero is not allowed.\n"
     ]
    }
   ],
   "source": [
    "try:\n",
    "    numerator = 10\n",
    "    denominator = 0\n",
    "    result = numerator / denominator  # This will raise a ZeroDivisionError\n",
    "except ZeroDivisionError:\n",
    "    print(\"Error: Division by zero is not allowed.\")\n",
    "else:\n",
    "    print(f\"Result: {result}\")\n"
   ]
  },
  {
   "cell_type": "markdown",
   "metadata": {},
   "source": [
    "6. Write a Python program that logs an error message to a log file when a division by zero exception occurs.\n"
   ]
  },
  {
   "cell_type": "code",
   "execution_count": 2,
   "metadata": {},
   "outputs": [
    {
     "name": "stdout",
     "output_type": "stream",
     "text": [
      "Error: Division by zero is not allowed.\n"
     ]
    }
   ],
   "source": [
    "import logging\n",
    "\n",
    "# Set up the logging configuration\n",
    "logging.basicConfig(filename='error_log.txt', level=logging.ERROR,\n",
    "                    format='%(asctime)s - %(levelname)s - %(message)s')\n",
    "\n",
    "def divide_numbers(numerator, denominator):\n",
    "    try:\n",
    "        result = numerator / denominator\n",
    "        return result\n",
    "    except ZeroDivisionError as e:\n",
    "        logging.error(f\"Error: Division by zero occurred! for Numerator: {numerator}, Denominator: {denominator}\")\n",
    "        print(\"Error: Division by zero is not allowed.\")\n",
    "        return None\n",
    "\n",
    "# Example usage\n",
    "numerator = 10\n",
    "denominator = 0\n",
    "\n",
    "# This will trigger a ZeroDivisionError and log it\n",
    "divide_numbers(numerator, denominator)\n"
   ]
  },
  {
   "cell_type": "markdown",
   "metadata": {},
   "source": [
    "# the text file that consists of log info\n",
    "\n",
    "2024-12-09 19:52:16,192 - ERROR - Error: Division by zero occurred! for Numerator: 10, Denominator: 0"
   ]
  },
  {
   "cell_type": "markdown",
   "metadata": {},
   "source": [
    "7. How do you log information at different levels (INFO, ERROR, WARNING) in Python using the logging module"
   ]
  },
  {
   "cell_type": "code",
   "execution_count": 1,
   "metadata": {},
   "outputs": [
    {
     "data": {
      "text/plain": [
       "5.0"
      ]
     },
     "execution_count": 1,
     "metadata": {},
     "output_type": "execute_result"
    }
   ],
   "source": [
    "import logging\n",
    "\n",
    "\n",
    "logging.basicConfig(filename='app_log.txt', level=logging.DEBUG,  # Set the root logger to capture all levels from DEBUG and above\n",
    "                    format='%(asctime)s - %(levelname)s - %(message)s')\n",
    "\n",
    "# Logging at different levels\n",
    "logging.debug(\"This is a debug message.\")  # Detailed information, used for debugging.\n",
    "logging.info(\"This is an info message.\")   # General information about the program’s operation.\n",
    "logging.warning(\"This is a warning message.\")  # Something unexpected, but the program can recover.\n",
    "logging.error(\"This is an error message.\")  # Something went wrong, the program may not function correctly.\n",
    "logging.critical(\"This is a critical message.\")  # A very serious error that may cause the program to stop.\n",
    "\n",
    "# Example function demonstrating the use of logging in a real-world scenario\n",
    "def divide_numbers(numerator, denominator):\n",
    "    if denominator == 0:\n",
    "        logging.error(f\"Attempted division by zero. Numerator: {numerator}, Denominator: {denominator}\")\n",
    "    else:\n",
    "        result = numerator / denominator\n",
    "        logging.info(f\"Division result: {result}\")\n",
    "        return result\n",
    "\n",
    "# Test the function\n",
    "divide_numbers(10, 0)  # This will log an error\n",
    "divide_numbers(10, 2)  # This will log an info message\n"
   ]
  },
  {
   "cell_type": "markdown",
   "metadata": {},
   "source": [
    "2024-12-09 20:00:43,962 - DEBUG - This is a debug message.\n",
    "2024-12-09 20:00:43,962 - INFO - This is an info message.\n",
    "2024-12-09 20:00:43,963 - WARNING - This is a warning message.\n",
    "2024-12-09 20:00:43,963 - ERROR - This is an error message.\n",
    "2024-12-09 20:00:43,963 - CRITICAL - This is a critical message.\n",
    "2024-12-09 20:00:43,964 - ERROR - Attempted division by zero. Numerator: 10, Denominator: 0\n",
    "2024-12-09 20:00:43,964 - INFO - Division result: 5.0"
   ]
  },
  {
   "cell_type": "markdown",
   "metadata": {},
   "source": [
    "8. Write a program to handle a file opening error using exception handling"
   ]
  },
  {
   "cell_type": "code",
   "execution_count": 5,
   "metadata": {},
   "outputs": [
    {
     "name": "stdout",
     "output_type": "stream",
     "text": [
      "Error: [Errno 2] No such file or directory: 'non_existent_file.txt'. The file could not be found.\n"
     ]
    }
   ],
   "source": [
    "try:\n",
    "    with open(\"non_existent_file.txt\", \"r\") as file:\n",
    "        content = file.read()\n",
    "        print(content)\n",
    "except FileNotFoundError as e:\n",
    "    # This block will execute if the file is not found\n",
    "    print(f\"Error: {e}. The file could not be found.\")\n",
    "\n"
   ]
  },
  {
   "cell_type": "markdown",
   "metadata": {},
   "source": [
    "9. How can you read a file line by line and store its content in a list in Python"
   ]
  },
  {
   "cell_type": "code",
   "execution_count": 8,
   "metadata": {},
   "outputs": [
    {
     "name": "stdout",
     "output_type": "stream",
     "text": [
      "['This is new file\\n', 'This is the First Line of code\\n', 'This is the Second Line of code\\n', 'This is the Third Line of code\\n', 'This is the Fourth Line of code']\n",
      "<class 'list'>\n"
     ]
    }
   ],
   "source": [
    "with open(\"File123.txt\",\"w\") as file:\n",
    "    file.write(\"This is new file\")\n",
    "with open(\"File123.txt\",\"a\") as file:\n",
    "    file.write(\"\\nThis is the First Line of code\")\n",
    "    file.write(\"\\nThis is the Second Line of code\")\n",
    "    file.write(\"\\nThis is the Third Line of code\")\n",
    "    file.write(\"\\nThis is the Fourth Line of code\")\n",
    "with open(\"File123.txt\",\"r\") as file:\n",
    "    a = file.readlines()\n",
    "    print(a)\n",
    "    print(type(a))"
   ]
  },
  {
   "cell_type": "markdown",
   "metadata": {},
   "source": [
    "10. How can you append data to an existing file in Python"
   ]
  },
  {
   "cell_type": "code",
   "execution_count": 13,
   "metadata": {},
   "outputs": [
    {
     "name": "stdout",
     "output_type": "stream",
     "text": [
      "This is the new file\n",
      "This is the appended line\n"
     ]
    }
   ],
   "source": [
    "with open(\"File12.txt\",\"w\") as file:\n",
    "    a = file.write(\"This is the new file\")\n",
    "\n",
    "with open(\"File12.txt\",\"a\") as file:\n",
    "    file.write(\"\\nThis is the appended line\")\n",
    "    \n",
    "with open(\"File12.txt\",\"r\") as file:\n",
    "    b = file.read()\n",
    "    print(b)"
   ]
  },
  {
   "cell_type": "markdown",
   "metadata": {},
   "source": [
    "11. Write a Python program that uses a try-except block to handle an error when attempting to access a dictionary key that doesn't existF"
   ]
  },
  {
   "cell_type": "code",
   "execution_count": null,
   "metadata": {},
   "outputs": [],
   "source": [
    "my_dict = {\"name\": \"Alice\", \"age\": 25}\n",
    "\n",
    "try:\n",
    "    # Attempt to access a non-existent key\n",
    "    print(my_dict[\"address\"])\n",
    "except KeyError as e:\n",
    "    # This block will execute if the key doesn't exist in the dictionary\n",
    "    print(f\"Error: The key {e} does not exist in the dictionary.\")\n"
   ]
  },
  {
   "cell_type": "markdown",
   "metadata": {},
   "source": [
    "12. Write a program that demonstrates using multiple except blocks to handle different types of exceptions"
   ]
  },
  {
   "cell_type": "code",
   "execution_count": null,
   "metadata": {},
   "outputs": [
    {
     "name": "stdout",
     "output_type": "stream",
     "text": [
      "Error: Invalid input. Please enter valid numbers. invalid literal for int() with base 10: 'int'\n"
     ]
    }
   ],
   "source": [
    "def handle_exceptions():\n",
    "    try:\n",
    "        num1 = int(input(\"Enter a number: \"))   # 2\n",
    "        num2 = int(input(\"Enter another number: \"))  # inr\n",
    "        \n",
    "        result = num1 / num2\n",
    "        print(f\"The result of {num1} / {num2} is {result}\")\n",
    "        \n",
    "        my_dict = {\"apple\": 1, \"banana\": 2}\n",
    "        print(my_dict[\"cherry\"])\n",
    "        \n",
    "    except ZeroDivisionError as e:\n",
    "        print(f\"Error: Division by zero is not allowed. {e}\")\n",
    "    except ValueError as e:\n",
    "        print(f\"Error: Invalid input. Please enter valid numbers. {e}\")\n",
    "    except KeyError as e:\n",
    "        print(f\"Error: The key '{e}' does not exist in the dictionary.\")\n",
    "    except Exception as e:\n",
    "        print(f\"An unexpected error occurred: {e}\")\n",
    "\n",
    "# Call the function\n",
    "handle_exceptions()\n"
   ]
  },
  {
   "cell_type": "markdown",
   "metadata": {},
   "source": [
    "13. How would you check if a file exists before attempting to read it in Python"
   ]
  },
  {
   "cell_type": "code",
   "execution_count": 15,
   "metadata": {},
   "outputs": [
    {
     "name": "stdout",
     "output_type": "stream",
     "text": [
      "The file example.txt does not exist.\n"
     ]
    }
   ],
   "source": [
    "import os\n",
    "\n",
    "file_path = \"example.txt\"\n",
    "\n",
    "if os.path.exists(file_path):\n",
    "    with open(file_path, \"r\") as file:\n",
    "        content = file.read()\n",
    "        print(content)\n",
    "else:\n",
    "    print(f\"The file {file_path} does not exist.\")\n"
   ]
  },
  {
   "cell_type": "markdown",
   "metadata": {},
   "source": [
    "14. Write a program that uses the logging module to log both informational and error messages"
   ]
  },
  {
   "cell_type": "code",
   "execution_count": 17,
   "metadata": {},
   "outputs": [],
   "source": [
    "import logging\n",
    "\n",
    "# Set up logging configuration\n",
    "logging.basicConfig(filename = \"info_error1.txt\",level=logging.DEBUG, format='%(asctime)s - %(levelname)s - %(message)s')\n",
    "\n",
    "# Log an informational message\n",
    "logging.info(\"This is an informational message.\")\n",
    "\n",
    "# Log an error message\n",
    "try:\n",
    "    x = 10 / 0  # Division by zero error\n",
    "except ZeroDivisionError as e:\n",
    "    logging.error(f\"Error occurred: {e}\")\n"
   ]
  },
  {
   "cell_type": "markdown",
   "metadata": {},
   "source": [
    "Output:\n",
    "2024-12-09 20:31:31,257 - INFO - This is an informational message.\n",
    "2024-12-09 20:31:31,257 - ERROR - Error occurred: division by zero"
   ]
  },
  {
   "cell_type": "markdown",
   "metadata": {},
   "source": [
    "15. Write a Python program that prints the content of a file and handles the case when the file is empty"
   ]
  },
  {
   "cell_type": "code",
   "execution_count": 22,
   "metadata": {},
   "outputs": [
    {
     "name": "stdout",
     "output_type": "stream",
     "text": [
      "The file is empty.\n"
     ]
    }
   ],
   "source": [
    "try:\n",
    "    with open(\"sample.txt\", \"w\") as file:\n",
    "        file.write(\"\") \n",
    "    with open(\"sample.txt\", \"r\") as file:\n",
    "        content = file.read()# Read the content and remove any leading/trailing whitespaces\n",
    "        if content:  # Check if content is not empty\n",
    "            print(content)\n",
    "        else:\n",
    "            print(\"The file is empty.\")\n",
    "except FileNotFoundError:\n",
    "    print(\"The file does not exist.\")\n"
   ]
  },
  {
   "cell_type": "markdown",
   "metadata": {},
   "source": [
    "16. Demonstrate how to use memory profiling to check the memory usage of a small program"
   ]
  },
  {
   "cell_type": "code",
   "execution_count": 24,
   "metadata": {},
   "outputs": [
    {
     "name": "stdout",
     "output_type": "stream",
     "text": [
      "Collecting memory-profiler\n",
      "  Downloading memory_profiler-0.61.0-py3-none-any.whl.metadata (20 kB)\n",
      "Requirement already satisfied: psutil in c:\\users\\smdta\\anaconda3\\lib\\site-packages (from memory-profiler) (5.9.0)\n",
      "Downloading memory_profiler-0.61.0-py3-none-any.whl (31 kB)\n",
      "Installing collected packages: memory-profiler\n",
      "Successfully installed memory-profiler-0.61.0\n"
     ]
    }
   ],
   "source": [
    "!pip install memory-profiler\n"
   ]
  },
  {
   "cell_type": "code",
   "execution_count": 32,
   "metadata": {},
   "outputs": [
    {
     "name": "stdout",
     "output_type": "stream",
     "text": [
      "ERROR: Could not find file C:\\Users\\smdta\\AppData\\Local\\Temp\\ipykernel_19776\\48935295.py\n"
     ]
    }
   ],
   "source": [
    "# memory_profiler_demo.py\n",
    "\n",
    "from memory_profiler import profile\n",
    "\n",
    "@profile\n",
    "def my_function():\n",
    "    a = [i for i in range(1000000)]  # Creating a large list\n",
    "    b = [i * 2 for i in a]  # Creating another list based on 'a'\n",
    "    return b\n",
    "\n",
    "if __name__ == \"__main__\":\n",
    "    my_function()\n"
   ]
  },
  {
   "cell_type": "markdown",
   "metadata": {},
   "source": [
    "Filename: exa.py\n",
    "\n",
    "Line #    Mem usage    Increment  Occurrences   Line Contents\n",
    "=============================================================\n",
    "     5     53.6 MiB     53.6 MiB           1   @profile\n",
    "     6                                         def my_function():\n",
    "     7     93.0 MiB     39.4 MiB     1000001       a = [i for i in range(1000000)]  # Creating a large list\n",
    "     8    132.3 MiB     39.3 MiB     1000001       b = [i * 2 for i in a]  # Creating another list based on 'a'\n",
    "     9    132.3 MiB      0.0 MiB           1       return b"
   ]
  },
  {
   "cell_type": "markdown",
   "metadata": {},
   "source": [
    "17. ite a Python program to create and write a list of numbers to a file, one number per line"
   ]
  },
  {
   "cell_type": "code",
   "execution_count": 33,
   "metadata": {},
   "outputs": [
    {
     "name": "stdout",
     "output_type": "stream",
     "text": [
      "Numbers have been written to 'numbers.txt'.\n"
     ]
    }
   ],
   "source": [
    "\n",
    "numbers = [1, 2, 3, 4, 5, 6, 7, 8, 9, 10]\n",
    "\n",
    "# Open a file \n",
    "with open(\"numbers.txt\", \"w\") as file:\n",
    "    for number in numbers:\n",
    "        file.write(str(number) + \"\\n\")  # Convert number to string and write with a new line\n",
    "\n",
    "print(\"Numbers have been written to 'numbers.txt'.\")\n"
   ]
  },
  {
   "cell_type": "markdown",
   "metadata": {},
   "source": [
    "1\n",
    "2\n",
    "3\n",
    "4\n",
    "5\n",
    "6\n",
    "7\n",
    "8\n",
    "9\n",
    "10"
   ]
  },
  {
   "cell_type": "markdown",
   "metadata": {},
   "source": [
    "18. How would you implement a basic logging setup that logs to a file with rotation after 1MB\n"
   ]
  },
  {
   "cell_type": "code",
   "execution_count": 34,
   "metadata": {},
   "outputs": [
    {
     "name": "stdout",
     "output_type": "stream",
     "text": [
      "Logging is set up with rotation after 1MB.\n"
     ]
    }
   ],
   "source": [
    "import logging\n",
    "from logging.handlers import RotatingFileHandler\n",
    "\n",
    "# Create a logger\n",
    "logger = logging.getLogger('MyLogger')\n",
    "logger.setLevel(logging.INFO)  # Set the logging level to INFO\n",
    "\n",
    "# Create a rotating file handler with a maximum file size of 1MB (1 * 1024 * 1024 bytes) and 3 backup files\n",
    "handler = RotatingFileHandler('logfile.log', maxBytes=1*1024*1024, backupCount=3)\n",
    "handler.setLevel(logging.INFO)\n",
    "\n",
    "# Create a formatter and add it to the handler\n",
    "formatter = logging.Formatter('%(asctime)s - %(levelname)s - %(message)s')\n",
    "handler.setFormatter(formatter)\n",
    "\n",
    "# Add the handler to the logger\n",
    "logger.addHandler(handler)\n",
    "\n",
    "# Example usage of the logger\n",
    "logger.info(\"This is an info message.\")\n",
    "logger.error(\"This is an error message.\")\n",
    "logger.warning(\"This is a warning message.\")\n",
    "\n",
    "print(\"Logging is set up with rotation after 1MB.\")\n"
   ]
  },
  {
   "cell_type": "markdown",
   "metadata": {},
   "source": [
    "19. Write a program that handles both IndexError and KeyError using a try-except block"
   ]
  },
  {
   "cell_type": "code",
   "execution_count": 35,
   "metadata": {},
   "outputs": [
    {
     "name": "stdout",
     "output_type": "stream",
     "text": [
      "IndexError occurred: list index out of range\n"
     ]
    }
   ],
   "source": [
    "def handle_exceptions():\n",
    "    try:\n",
    "        # index error\n",
    "        my_list = [1, 2, 3]\n",
    "        print(my_list[5])  # This will raise an IndexError\n",
    "\n",
    "        # key-value errror\n",
    "        my_dict = {\"name\": \"Alice\", \"age\": 25}\n",
    "        print(my_dict[\"address\"])  # This will raise a KeyError\n",
    "\n",
    "    except IndexError as e:\n",
    "        print(f\"IndexError occurred: {e}\")\n",
    "    \n",
    "    except KeyError as e:\n",
    "        print(f\"KeyError occurred: {e}\")\n",
    "\n",
    "# Call the function\n",
    "handle_exceptions()\n"
   ]
  },
  {
   "cell_type": "markdown",
   "metadata": {},
   "source": [
    "20. How would you open a file and read its contents using a context manager in Python\n"
   ]
  },
  {
   "cell_type": "code",
   "execution_count": 36,
   "metadata": {},
   "outputs": [
    {
     "name": "stdout",
     "output_type": "stream",
     "text": [
      "This is the new file\n",
      "This is the appended line\n"
     ]
    }
   ],
   "source": [
    "# Using context manager to open and read the file\n",
    "with open('file12.txt', 'r') as file:\n",
    "    contents = file.read()\n",
    "    print(contents)\n"
   ]
  },
  {
   "cell_type": "markdown",
   "metadata": {},
   "source": [
    "21. Write a Python program that reads a file and prints the number of occurrences of a specific word"
   ]
  },
  {
   "cell_type": "code",
   "execution_count": 37,
   "metadata": {},
   "outputs": [
    {
     "name": "stdout",
     "output_type": "stream",
     "text": [
      "count of This is 2\n"
     ]
    }
   ],
   "source": [
    "def word_counts(filename,word):\n",
    "    try:\n",
    "        with open('file12.txt', 'r') as file:\n",
    "            contents = file.read()\n",
    "            word_count = contents.lower().split().count(word.lower())\n",
    "            print(f\"count of {word} is {word_count}\")\n",
    "    except FileNotFoundError as e:\n",
    "        print(f\"File does not found : {e}\")\n",
    "filename = \"File12.txt\"\n",
    "word = \"This\"\n",
    "word_counts(filename,word)\n",
    "            \n",
    "    \n",
    "        \n",
    "    "
   ]
  },
  {
   "cell_type": "markdown",
   "metadata": {},
   "source": [
    "22. How can you check if a file is empty before attempting to read its contents"
   ]
  },
  {
   "cell_type": "code",
   "execution_count": 38,
   "metadata": {},
   "outputs": [
    {
     "name": "stdout",
     "output_type": "stream",
     "text": [
      "The file is empty.\n"
     ]
    }
   ],
   "source": [
    "file_path = \"sample.txt\"\n",
    "\n",
    "# Open and check if file is empty\n",
    "with open(file_path, \"r\") as file:\n",
    "    content = file.read()\n",
    "    if not content:\n",
    "        print(\"The file is empty.\")\n",
    "    else:\n",
    "        print(\"File content:\", content)\n"
   ]
  },
  {
   "cell_type": "markdown",
   "metadata": {},
   "source": [
    "23. Write a Python program that writes to a log file when an error occurs during file handling.\n"
   ]
  },
  {
   "cell_type": "code",
   "execution_count": 43,
   "metadata": {},
   "outputs": [
    {
     "name": "stdout",
     "output_type": "stream",
     "text": [
      "Error: The file or directory does not exist.\n"
     ]
    }
   ],
   "source": [
    "import logging\n",
    "\n",
    "logging.basicConfig(filename = \"sample1.txt\",level = logging.DEBUG, format = \"%(asctime)s - %(levelname)s - %(message)s'\")\n",
    "try:\n",
    "    # with open(\"sample.txt\", \"w\") as file:\n",
    "    #     file.write(\"This is a test line.\")\n",
    "    with open(\"sample12.txt\", \"r\") as file:\n",
    "        a = file.read()\n",
    "        print(a)\n",
    "except FileNotFoundError as e:\n",
    "    logging.error(f\"File not found: {e}\")\n",
    "    print(\"Error: The file or directory does not exist.\")\n",
    "except PermissionError as e:\n",
    "    logging.error(f\"Permission denied: {e}\")\n",
    "    print(\"Error: You don't have the required permissions to access this file.\")\n",
    "except Exception as e:\n",
    "    logging.error(f\"Unexpected error: {e}\")\n",
    "    print(\"An unexpected error occurred.\")\n",
    "else:\n",
    "    print(\"Hence ran try code successfully \")"
   ]
  },
  {
   "cell_type": "markdown",
   "metadata": {},
   "source": [
    "2024-12-09 21:59:33,190 - ERROR - File not found: [Errno 2] No such file or directory: 'sample12.txt'"
   ]
  },
  {
   "cell_type": "code",
   "execution_count": null,
   "metadata": {},
   "outputs": [],
   "source": []
  },
  {
   "cell_type": "markdown",
   "metadata": {},
   "source": []
  },
  {
   "cell_type": "markdown",
   "metadata": {},
   "source": []
  },
  {
   "cell_type": "markdown",
   "metadata": {},
   "source": []
  },
  {
   "cell_type": "markdown",
   "metadata": {},
   "source": []
  },
  {
   "cell_type": "markdown",
   "metadata": {},
   "source": []
  },
  {
   "cell_type": "markdown",
   "metadata": {},
   "source": []
  },
  {
   "cell_type": "markdown",
   "metadata": {},
   "source": []
  },
  {
   "cell_type": "markdown",
   "metadata": {},
   "source": []
  },
  {
   "cell_type": "markdown",
   "metadata": {},
   "source": []
  },
  {
   "cell_type": "markdown",
   "metadata": {},
   "source": []
  },
  {
   "cell_type": "code",
   "execution_count": null,
   "metadata": {},
   "outputs": [],
   "source": []
  },
  {
   "cell_type": "markdown",
   "metadata": {},
   "source": []
  },
  {
   "cell_type": "markdown",
   "metadata": {},
   "source": []
  },
  {
   "cell_type": "markdown",
   "metadata": {},
   "source": []
  },
  {
   "cell_type": "markdown",
   "metadata": {},
   "source": []
  },
  {
   "cell_type": "code",
   "execution_count": null,
   "metadata": {},
   "outputs": [],
   "source": []
  }
 ],
 "metadata": {
  "kernelspec": {
   "display_name": "base",
   "language": "python",
   "name": "python3"
  },
  "language_info": {
   "codemirror_mode": {
    "name": "ipython",
    "version": 3
   },
   "file_extension": ".py",
   "mimetype": "text/x-python",
   "name": "python",
   "nbconvert_exporter": "python",
   "pygments_lexer": "ipython3",
   "version": "3.12.7"
  }
 },
 "nbformat": 4,
 "nbformat_minor": 2
}
